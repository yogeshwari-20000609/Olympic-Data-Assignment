{
 "cells": [
  {
   "cell_type": "code",
   "execution_count": 98,
   "id": "industrial-cabin",
   "metadata": {},
   "outputs": [],
   "source": [
    "import pandas as pd\n",
    "import numpy as np"
   ]
  },
  {
   "cell_type": "markdown",
   "id": "atlantic-jacket",
   "metadata": {},
   "source": [
    "1. In how many cities Summer Olympics is held so far?"
   ]
  },
  {
   "cell_type": "code",
   "execution_count": 99,
   "id": "third-potential",
   "metadata": {},
   "outputs": [
    {
     "name": "stdout",
     "output_type": "stream",
     "text": [
      "22\n"
     ]
    }
   ],
   "source": [
    "Cities =  pd.read_csv(\"summer.csv\")#Grouping and perform count over each group\n",
    "cities_num =  Cities.groupby('City')['City'].count()\n",
    "#print(cities_num)\n",
    "print(len(cities_num))"
   ]
  },
  {
   "cell_type": "markdown",
   "id": "located-leather",
   "metadata": {},
   "source": [
    "2. Which sport is having most number of Gold Medals so far? (Top 5)"
   ]
  },
  {
   "cell_type": "code",
   "execution_count": 100,
   "id": "mediterranean-indicator",
   "metadata": {},
   "outputs": [
    {
     "data": {
      "text/html": [
       "<div>\n",
       "<style scoped>\n",
       "    .dataframe tbody tr th:only-of-type {\n",
       "        vertical-align: middle;\n",
       "    }\n",
       "\n",
       "    .dataframe tbody tr th {\n",
       "        vertical-align: top;\n",
       "    }\n",
       "\n",
       "    .dataframe thead th {\n",
       "        text-align: right;\n",
       "    }\n",
       "</style>\n",
       "<table border=\"1\" class=\"dataframe\">\n",
       "  <thead>\n",
       "    <tr style=\"text-align: right;\">\n",
       "      <th>Medal</th>\n",
       "      <th>Sport</th>\n",
       "      <th>Bronze</th>\n",
       "      <th>Gold</th>\n",
       "      <th>Silver</th>\n",
       "    </tr>\n",
       "  </thead>\n",
       "  <tbody>\n",
       "    <tr>\n",
       "      <th>0</th>\n",
       "      <td>Aquatics</td>\n",
       "      <td>1365.0</td>\n",
       "      <td>1421.0</td>\n",
       "      <td>1384.0</td>\n",
       "    </tr>\n",
       "    <tr>\n",
       "      <th>2</th>\n",
       "      <td>Athletics</td>\n",
       "      <td>1199.0</td>\n",
       "      <td>1215.0</td>\n",
       "      <td>1224.0</td>\n",
       "    </tr>\n",
       "    <tr>\n",
       "      <th>28</th>\n",
       "      <td>Rowing</td>\n",
       "      <td>888.0</td>\n",
       "      <td>890.0</td>\n",
       "      <td>889.0</td>\n",
       "    </tr>\n",
       "    <tr>\n",
       "      <th>17</th>\n",
       "      <td>Gymnastics</td>\n",
       "      <td>731.0</td>\n",
       "      <td>820.0</td>\n",
       "      <td>756.0</td>\n",
       "    </tr>\n",
       "    <tr>\n",
       "      <th>14</th>\n",
       "      <td>Fencing</td>\n",
       "      <td>519.0</td>\n",
       "      <td>552.0</td>\n",
       "      <td>542.0</td>\n",
       "    </tr>\n",
       "  </tbody>\n",
       "</table>\n",
       "</div>"
      ],
      "text/plain": [
       "Medal       Sport  Bronze    Gold  Silver\n",
       "0        Aquatics  1365.0  1421.0  1384.0\n",
       "2       Athletics  1199.0  1215.0  1224.0\n",
       "28         Rowing   888.0   890.0   889.0\n",
       "17     Gymnastics   731.0   820.0   756.0\n",
       "14        Fencing   519.0   552.0   542.0"
      ]
     },
     "execution_count": 100,
     "metadata": {},
     "output_type": "execute_result"
    }
   ],
   "source": [
    "df = pd.read_csv(\"summer.csv\")\n",
    "#df.groupby('Sport')['Medal'].count()\n",
    "Medal_Types = df.groupby(['Country', 'Medal'])['Medal'].count()\n",
    "Medal_Types = Medal_Types.unstack(level = -1)\n",
    "Sports_Medals = df.groupby(['Sport', 'Medal'])['Medal'].count()\n",
    "Sports_Medals = Sports_Medals.unstack(level = -1)\n",
    "pd.DataFrame(Medal_Types)\n",
    "Sports_Medals = Sports_Medals.reset_index(drop=False)\n",
    "Sports_Medals = Sports_Medals.sort_values(by = ['Gold'], ascending = False)\n",
    "Sports_Medals = Sports_Medals.head(20)\n",
    "Sports_Medals.head(5)"
   ]
  },
  {
   "cell_type": "markdown",
   "id": "mounted-persian",
   "metadata": {},
   "source": [
    "3. Which sport is having most number of medals so far? (Top 5)"
   ]
  },
  {
   "cell_type": "code",
   "execution_count": 101,
   "id": "intermediate-reducing",
   "metadata": {},
   "outputs": [
    {
     "data": {
      "text/html": [
       "<div>\n",
       "<style scoped>\n",
       "    .dataframe tbody tr th:only-of-type {\n",
       "        vertical-align: middle;\n",
       "    }\n",
       "\n",
       "    .dataframe tbody tr th {\n",
       "        vertical-align: top;\n",
       "    }\n",
       "\n",
       "    .dataframe thead th {\n",
       "        text-align: right;\n",
       "    }\n",
       "</style>\n",
       "<table border=\"1\" class=\"dataframe\">\n",
       "  <thead>\n",
       "    <tr style=\"text-align: right;\">\n",
       "      <th>Medal</th>\n",
       "      <th>Sport</th>\n",
       "      <th>Bronze</th>\n",
       "      <th>Gold</th>\n",
       "      <th>Silver</th>\n",
       "    </tr>\n",
       "  </thead>\n",
       "  <tbody>\n",
       "    <tr>\n",
       "      <th>0</th>\n",
       "      <td>Aquatics</td>\n",
       "      <td>1365.0</td>\n",
       "      <td>1421.0</td>\n",
       "      <td>1384.0</td>\n",
       "    </tr>\n",
       "    <tr>\n",
       "      <th>2</th>\n",
       "      <td>Athletics</td>\n",
       "      <td>1199.0</td>\n",
       "      <td>1215.0</td>\n",
       "      <td>1224.0</td>\n",
       "    </tr>\n",
       "    <tr>\n",
       "      <th>28</th>\n",
       "      <td>Rowing</td>\n",
       "      <td>888.0</td>\n",
       "      <td>890.0</td>\n",
       "      <td>889.0</td>\n",
       "    </tr>\n",
       "    <tr>\n",
       "      <th>17</th>\n",
       "      <td>Gymnastics</td>\n",
       "      <td>731.0</td>\n",
       "      <td>820.0</td>\n",
       "      <td>756.0</td>\n",
       "    </tr>\n",
       "    <tr>\n",
       "      <th>14</th>\n",
       "      <td>Fencing</td>\n",
       "      <td>519.0</td>\n",
       "      <td>552.0</td>\n",
       "      <td>542.0</td>\n",
       "    </tr>\n",
       "  </tbody>\n",
       "</table>\n",
       "</div>"
      ],
      "text/plain": [
       "Medal       Sport  Bronze    Gold  Silver\n",
       "0        Aquatics  1365.0  1421.0  1384.0\n",
       "2       Athletics  1199.0  1215.0  1224.0\n",
       "28         Rowing   888.0   890.0   889.0\n",
       "17     Gymnastics   731.0   820.0   756.0\n",
       "14        Fencing   519.0   552.0   542.0"
      ]
     },
     "execution_count": 101,
     "metadata": {},
     "output_type": "execute_result"
    }
   ],
   "source": [
    "df = pd.read_csv(\"summer.csv\")\n",
    "#df.groupby('Sport')['Medal'].count()\n",
    "Medal_Types = df.groupby(['Country', 'Medal'])['Medal'].count()\n",
    "Medal_Types = Medal_Types.unstack(level = -1)\n",
    "Sports_Medals = df.groupby(['Sport', 'Medal'])['Medal'].count()\n",
    "Sports_Medals = Sports_Medals.unstack(level = -1)\n",
    "pd.DataFrame(Medal_Types)\n",
    "Sports_Medals = Sports_Medals.reset_index(drop=False)\n",
    "Sports_Medals = Sports_Medals.sort_values(by = ['Gold'], ascending = False)\n",
    "Sports_Medals = Sports_Medals.head(20)\n",
    "Sports_Medals.head(5)"
   ]
  },
  {
   "cell_type": "markdown",
   "id": "hairy-clerk",
   "metadata": {},
   "source": [
    "4. Which player has won most number of medals? (Top 5)"
   ]
  },
  {
   "cell_type": "code",
   "execution_count": 102,
   "id": "quiet-characteristic",
   "metadata": {},
   "outputs": [
    {
     "data": {
      "text/html": [
       "<div>\n",
       "<style scoped>\n",
       "    .dataframe tbody tr th:only-of-type {\n",
       "        vertical-align: middle;\n",
       "    }\n",
       "\n",
       "    .dataframe tbody tr th {\n",
       "        vertical-align: top;\n",
       "    }\n",
       "\n",
       "    .dataframe thead th {\n",
       "        text-align: right;\n",
       "    }\n",
       "</style>\n",
       "<table border=\"1\" class=\"dataframe\">\n",
       "  <thead>\n",
       "    <tr style=\"text-align: right;\">\n",
       "      <th>Medal</th>\n",
       "      <th>Athlete</th>\n",
       "      <th>Bronze</th>\n",
       "      <th>Gold</th>\n",
       "      <th>Silver</th>\n",
       "    </tr>\n",
       "  </thead>\n",
       "  <tbody>\n",
       "    <tr>\n",
       "      <th>15702</th>\n",
       "      <td>PHELPS, Michael</td>\n",
       "      <td>2.0</td>\n",
       "      <td>18.0</td>\n",
       "      <td>2.0</td>\n",
       "    </tr>\n",
       "    <tr>\n",
       "      <th>11538</th>\n",
       "      <td>LEWIS, Carl</td>\n",
       "      <td>NaN</td>\n",
       "      <td>9.0</td>\n",
       "      <td>1.0</td>\n",
       "    </tr>\n",
       "    <tr>\n",
       "      <th>14594</th>\n",
       "      <td>NURMI, Paavo</td>\n",
       "      <td>NaN</td>\n",
       "      <td>9.0</td>\n",
       "      <td>3.0</td>\n",
       "    </tr>\n",
       "    <tr>\n",
       "      <th>18886</th>\n",
       "      <td>SPITZ, Mark</td>\n",
       "      <td>1.0</td>\n",
       "      <td>9.0</td>\n",
       "      <td>1.0</td>\n",
       "    </tr>\n",
       "    <tr>\n",
       "      <th>11202</th>\n",
       "      <td>LATYNINA, Larisa</td>\n",
       "      <td>4.0</td>\n",
       "      <td>9.0</td>\n",
       "      <td>5.0</td>\n",
       "    </tr>\n",
       "  </tbody>\n",
       "</table>\n",
       "</div>"
      ],
      "text/plain": [
       "Medal           Athlete  Bronze  Gold  Silver\n",
       "15702   PHELPS, Michael     2.0  18.0     2.0\n",
       "11538       LEWIS, Carl     NaN   9.0     1.0\n",
       "14594      NURMI, Paavo     NaN   9.0     3.0\n",
       "18886       SPITZ, Mark     1.0   9.0     1.0\n",
       "11202  LATYNINA, Larisa     4.0   9.0     5.0"
      ]
     },
     "execution_count": 102,
     "metadata": {},
     "output_type": "execute_result"
    }
   ],
   "source": [
    "df = pd.read_csv(\"summer.csv\")\n",
    "#df.groupby('Sport')['Medal'].count()\n",
    "Medal_Types = df.groupby(['Athlete', 'Medal'])['Medal'].count()\n",
    "Medal_Types = Medal_Types.unstack(level = -1)\n",
    "Sports_Medals = df.groupby(['Athlete', 'Medal'])['Medal'].count()\n",
    "Sports_Medals = Sports_Medals.unstack(level = -1)\n",
    "pd.DataFrame(Medal_Types)\n",
    "Sports_Medals = Sports_Medals.reset_index(drop=False)\n",
    "Sports_Medals = Sports_Medals.sort_values(by = ['Gold'], ascending = False)\n",
    "Sports_Medals = Sports_Medals.head(20)\n",
    "Sports_Medals.head(5)"
   ]
  },
  {
   "cell_type": "markdown",
   "id": "sustainable-trader",
   "metadata": {},
   "source": [
    "5. Which player has won most number Gold Medals of medals? (Top 5)"
   ]
  },
  {
   "cell_type": "code",
   "execution_count": 103,
   "id": "strange-bracelet",
   "metadata": {},
   "outputs": [
    {
     "data": {
      "text/html": [
       "<div>\n",
       "<style scoped>\n",
       "    .dataframe tbody tr th:only-of-type {\n",
       "        vertical-align: middle;\n",
       "    }\n",
       "\n",
       "    .dataframe tbody tr th {\n",
       "        vertical-align: top;\n",
       "    }\n",
       "\n",
       "    .dataframe thead th {\n",
       "        text-align: right;\n",
       "    }\n",
       "</style>\n",
       "<table border=\"1\" class=\"dataframe\">\n",
       "  <thead>\n",
       "    <tr style=\"text-align: right;\">\n",
       "      <th>Medal</th>\n",
       "      <th>Athlete</th>\n",
       "      <th>Bronze</th>\n",
       "      <th>Gold</th>\n",
       "      <th>Silver</th>\n",
       "    </tr>\n",
       "  </thead>\n",
       "  <tbody>\n",
       "    <tr>\n",
       "      <th>15702</th>\n",
       "      <td>PHELPS, Michael</td>\n",
       "      <td>2.0</td>\n",
       "      <td>18.0</td>\n",
       "      <td>2.0</td>\n",
       "    </tr>\n",
       "    <tr>\n",
       "      <th>11538</th>\n",
       "      <td>LEWIS, Carl</td>\n",
       "      <td>NaN</td>\n",
       "      <td>9.0</td>\n",
       "      <td>1.0</td>\n",
       "    </tr>\n",
       "    <tr>\n",
       "      <th>14594</th>\n",
       "      <td>NURMI, Paavo</td>\n",
       "      <td>NaN</td>\n",
       "      <td>9.0</td>\n",
       "      <td>3.0</td>\n",
       "    </tr>\n",
       "    <tr>\n",
       "      <th>18886</th>\n",
       "      <td>SPITZ, Mark</td>\n",
       "      <td>1.0</td>\n",
       "      <td>9.0</td>\n",
       "      <td>1.0</td>\n",
       "    </tr>\n",
       "    <tr>\n",
       "      <th>11202</th>\n",
       "      <td>LATYNINA, Larisa</td>\n",
       "      <td>4.0</td>\n",
       "      <td>9.0</td>\n",
       "      <td>5.0</td>\n",
       "    </tr>\n",
       "  </tbody>\n",
       "</table>\n",
       "</div>"
      ],
      "text/plain": [
       "Medal           Athlete  Bronze  Gold  Silver\n",
       "15702   PHELPS, Michael     2.0  18.0     2.0\n",
       "11538       LEWIS, Carl     NaN   9.0     1.0\n",
       "14594      NURMI, Paavo     NaN   9.0     3.0\n",
       "18886       SPITZ, Mark     1.0   9.0     1.0\n",
       "11202  LATYNINA, Larisa     4.0   9.0     5.0"
      ]
     },
     "execution_count": 103,
     "metadata": {},
     "output_type": "execute_result"
    }
   ],
   "source": [
    "df = pd.read_csv(\"summer.csv\")\n",
    "#df.groupby('Sport')['Medal'].count()\n",
    "Medal_Types = df.groupby(['Athlete', 'Medal'])['Medal'].count()\n",
    "Medal_Types = Medal_Types.unstack(level = -1)\n",
    "Sports_Medals = df.groupby(['Athlete', 'Medal'])['Medal'].count()\n",
    "Sports_Medals = Sports_Medals.unstack(level = -1)\n",
    "pd.DataFrame(Medal_Types)\n",
    "Sports_Medals = Sports_Medals.reset_index(drop=False)\n",
    "Sports_Medals = Sports_Medals.sort_values(by = ['Gold'], ascending = False)\n",
    "Sports_Medals = Sports_Medals.head(20)\n",
    "Sports_Medals.head(5)"
   ]
  },
  {
   "cell_type": "markdown",
   "id": "republican-spell",
   "metadata": {},
   "source": [
    "6. In which year India won first Gold Medal in Summer Olympics?"
   ]
  },
  {
   "cell_type": "code",
   "execution_count": 104,
   "id": "statewide-express",
   "metadata": {},
   "outputs": [
    {
     "data": {
      "text/html": [
       "<div>\n",
       "<style scoped>\n",
       "    .dataframe tbody tr th:only-of-type {\n",
       "        vertical-align: middle;\n",
       "    }\n",
       "\n",
       "    .dataframe tbody tr th {\n",
       "        vertical-align: top;\n",
       "    }\n",
       "\n",
       "    .dataframe thead th {\n",
       "        text-align: right;\n",
       "    }\n",
       "</style>\n",
       "<table border=\"1\" class=\"dataframe\">\n",
       "  <thead>\n",
       "    <tr style=\"text-align: right;\">\n",
       "      <th>Medal</th>\n",
       "      <th>Athlete</th>\n",
       "      <th>Bronze</th>\n",
       "      <th>Gold</th>\n",
       "      <th>Silver</th>\n",
       "    </tr>\n",
       "  </thead>\n",
       "  <tbody>\n",
       "    <tr>\n",
       "      <th>0</th>\n",
       "      <td>AABYE, Edgar</td>\n",
       "      <td>NaN</td>\n",
       "      <td>1.0</td>\n",
       "      <td>NaN</td>\n",
       "    </tr>\n",
       "    <tr>\n",
       "      <th>1</th>\n",
       "      <td>AALTONEN, Arvo Ossian</td>\n",
       "      <td>2.0</td>\n",
       "      <td>NaN</td>\n",
       "      <td>NaN</td>\n",
       "    </tr>\n",
       "    <tr>\n",
       "      <th>2</th>\n",
       "      <td>AALTONEN, Paavo Johannes</td>\n",
       "      <td>2.0</td>\n",
       "      <td>3.0</td>\n",
       "      <td>NaN</td>\n",
       "    </tr>\n",
       "    <tr>\n",
       "      <th>3</th>\n",
       "      <td>AAMODT, Ragnhild</td>\n",
       "      <td>NaN</td>\n",
       "      <td>1.0</td>\n",
       "      <td>NaN</td>\n",
       "    </tr>\n",
       "    <tr>\n",
       "      <th>4</th>\n",
       "      <td>AANING, Alf Lied</td>\n",
       "      <td>NaN</td>\n",
       "      <td>NaN</td>\n",
       "      <td>1.0</td>\n",
       "    </tr>\n",
       "  </tbody>\n",
       "</table>\n",
       "</div>"
      ],
      "text/plain": [
       "Medal                   Athlete  Bronze  Gold  Silver\n",
       "0                  AABYE, Edgar     NaN   1.0     NaN\n",
       "1         AALTONEN, Arvo Ossian     2.0   NaN     NaN\n",
       "2      AALTONEN, Paavo Johannes     2.0   3.0     NaN\n",
       "3              AAMODT, Ragnhild     NaN   1.0     NaN\n",
       "4              AANING, Alf Lied     NaN   NaN     1.0"
      ]
     },
     "execution_count": 104,
     "metadata": {},
     "output_type": "execute_result"
    }
   ],
   "source": [
    "df = pd.read_csv(\"summer.csv\")\n",
    "#df.groupby('Sport')['Medal'].count()\n",
    "Medal_Types = df.groupby(['Year', 'Medal'])['Medal'].count()\n",
    "Medal_Types = Medal_Types.unstack(level = -1)\n",
    "Sports_Medals = df.groupby(['Athlete', 'Medal'])['Medal'].count()\n",
    "Sports_Medals = Sports_Medals.unstack(level = -1)\n",
    "pd.DataFrame(Medal_Types)\n",
    "Sports_Medals = Sports_Medals.reset_index(drop=False)\n",
    "#Sports_Medals = Sports_Medals.sort_values(by = ['Gold'], ascending = True)\n",
    "Sports_Medals = Sports_Medals.head(20)\n",
    "Sports_Medals.head(5)"
   ]
  },
  {
   "cell_type": "markdown",
   "id": "congressional-project",
   "metadata": {},
   "source": [
    "7. Which event is most popular in terms on number of players? (Top 5)"
   ]
  },
  {
   "cell_type": "code",
   "execution_count": 105,
   "id": "acceptable-bronze",
   "metadata": {},
   "outputs": [
    {
     "data": {
      "text/plain": [
       "Event    Épée, Masters\n",
       "Count             1497\n",
       "dtype: object"
      ]
     },
     "execution_count": 105,
     "metadata": {},
     "output_type": "execute_result"
    }
   ],
   "source": [
    "players = pd.DataFrame(df.groupby('Event')['Athlete'].count().reset_index(name = 'Count'))\n",
    "players.max()"
   ]
  }
 ],
 "metadata": {
  "kernelspec": {
   "display_name": "Python 3",
   "language": "python",
   "name": "python3"
  },
  "language_info": {
   "codemirror_mode": {
    "name": "ipython",
    "version": 3
   },
   "file_extension": ".py",
   "mimetype": "text/x-python",
   "name": "python",
   "nbconvert_exporter": "python",
   "pygments_lexer": "ipython3",
   "version": "3.8.10"
  }
 },
 "nbformat": 4,
 "nbformat_minor": 5
}
